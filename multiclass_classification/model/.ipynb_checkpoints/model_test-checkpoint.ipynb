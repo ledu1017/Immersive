{
 "cells": [
  {
   "cell_type": "code",
   "execution_count": 2,
   "id": "26432592",
   "metadata": {},
   "outputs": [],
   "source": [
    "from openpyxl import *\n",
    "import tensorflow as tf\n",
    "from tensorflow.keras.preprocessing.text import Tokenizer\n",
    "from tensorflow.keras.preprocessing.sequence import pad_sequences\n",
    "from keras.models import load_model\n",
    "import numpy as np"
   ]
  },
  {
   "cell_type": "code",
   "execution_count": 3,
   "id": "b8d5fbb5",
   "metadata": {},
   "outputs": [],
   "source": [
    "excelfile = load_workbook('test5.xlsx')    # text.xlsx 파일 로드\n",
    "sheet = excelfile['한국 저출산']    # 시트 로드\n",
    "\n",
    "# E열의 값을 읽어올 리스트\n",
    "comments = []\n",
    "\n",
    "# E열의 값 읽기 (E1은 제외)\n",
    "for row in sheet.iter_rows(min_row=2, values_only=True, max_col=5):\n",
    "    comments_xlsx = row[4]  # E열은 0-based 인덱스로 4\n",
    "    comments.append(comments_xlsx)\n",
    "    #if video_name and video_name not in video_names:  # 값이 비어있지 않은 경우에만 리스트에 추가\n",
    "        #video_names.append(video_name)"
   ]
  },
  {
   "cell_type": "code",
   "execution_count": 1,
   "id": "555d9e45",
   "metadata": {},
   "outputs": [],
   "source": [
    "word_list = []\n",
    "\n",
    "with open('pos_pol_word.txt', encoding = \"UTF-8\") as pos:\n",
    "    for idx, line in enumerate(pos):\n",
    "        if idx > 18:\n",
    "            word_list.append(line.strip())\n",
    "            \n",
    "with open('neg_pol_word.txt', encoding = \"UTF-8\") as pos:\n",
    "    for idx, line in enumerate(pos):\n",
    "        if idx > 18:\n",
    "            word_list.append(line.strip())\n",
    "            \n",
    "            \n",
    "with open('obj_unknown_pol_word.txt', encoding = \"UTF-8\") as pos:\n",
    "    for idx, line in enumerate(pos):\n",
    "        if idx > 19:\n",
    "            word_list.append(line.strip())"
   ]
  },
  {
   "cell_type": "code",
   "execution_count": 4,
   "id": "fdc95c13",
   "metadata": {},
   "outputs": [],
   "source": [
    "new_comments = []\n",
    "for comment in comments[:5]:\n",
    "    if comment is not None:\n",
    "        new_comments.append(str(comment))"
   ]
  },
  {
   "cell_type": "code",
   "execution_count": 5,
   "id": "aaccc9aa",
   "metadata": {},
   "outputs": [],
   "source": [
    "# 텍스트 데이터를 시퀀스로 변환\n",
    "tokenizer = Tokenizer(num_words=10000, oov_token='<OOV>')\n",
    "tokenizer.fit_on_texts(word_list)\n",
    "new_sequences = tokenizer.texts_to_sequences(new_comments)\n",
    "\n",
    "# 패딩 처리\n",
    "new_padded = pad_sequences(new_sequences, maxlen=10, padding='post', truncating='post')"
   ]
  },
  {
   "cell_type": "code",
   "execution_count": 6,
   "id": "72de84cf",
   "metadata": {},
   "outputs": [
    {
     "ename": "ValueError",
     "evalue": "in user code:\n\n    File \"C:\\Users\\ledu2\\AppData\\Local\\anaconda3\\lib\\site-packages\\keras\\engine\\training.py\", line 2137, in predict_function  *\n        return step_function(self, iterator)\n    File \"C:\\Users\\ledu2\\AppData\\Local\\anaconda3\\lib\\site-packages\\keras\\engine\\training.py\", line 2123, in step_function  **\n        outputs = model.distribute_strategy.run(run_step, args=(data,))\n    File \"C:\\Users\\ledu2\\AppData\\Local\\anaconda3\\lib\\site-packages\\keras\\engine\\training.py\", line 2111, in run_step  **\n        outputs = model.predict_step(data)\n    File \"C:\\Users\\ledu2\\AppData\\Local\\anaconda3\\lib\\site-packages\\keras\\engine\\training.py\", line 2079, in predict_step\n        return self(x, training=False)\n    File \"C:\\Users\\ledu2\\AppData\\Local\\anaconda3\\lib\\site-packages\\keras\\utils\\traceback_utils.py\", line 70, in error_handler\n        raise e.with_traceback(filtered_tb) from None\n    File \"C:\\Users\\ledu2\\AppData\\Local\\anaconda3\\lib\\site-packages\\keras\\engine\\input_spec.py\", line 295, in assert_input_compatibility\n        raise ValueError(\n\n    ValueError: Input 0 of layer \"sequential\" is incompatible with the layer: expected shape=(None, 10), found shape=(None, 20)\n",
     "output_type": "error",
     "traceback": [
      "\u001b[1;31m---------------------------------------------------------------------------\u001b[0m",
      "\u001b[1;31mValueError\u001b[0m                                Traceback (most recent call last)",
      "Cell \u001b[1;32mIn[6], line 3\u001b[0m\n\u001b[0;32m      1\u001b[0m \u001b[38;5;66;03m# 예측 수행\u001b[39;00m\n\u001b[0;32m      2\u001b[0m model \u001b[38;5;241m=\u001b[39m load_model(\u001b[38;5;124m'\u001b[39m\u001b[38;5;124memotion_model.h5\u001b[39m\u001b[38;5;124m'\u001b[39m)\n\u001b[1;32m----> 3\u001b[0m predictions \u001b[38;5;241m=\u001b[39m \u001b[43mmodel\u001b[49m\u001b[38;5;241;43m.\u001b[39;49m\u001b[43mpredict\u001b[49m\u001b[43m(\u001b[49m\u001b[43mnew_padded\u001b[49m\u001b[43m)\u001b[49m\n\u001b[0;32m      4\u001b[0m \u001b[38;5;66;03m#new_model = tf.keras.models.load_model('emotion_model.h5')\u001b[39;00m\n\u001b[0;32m      5\u001b[0m \u001b[38;5;66;03m# 예측 결과 출력\u001b[39;00m\n\u001b[0;32m      6\u001b[0m \u001b[38;5;28;01mfor\u001b[39;00m i, pred \u001b[38;5;129;01min\u001b[39;00m \u001b[38;5;28menumerate\u001b[39m(predictions):\n",
      "File \u001b[1;32m~\\AppData\\Local\\anaconda3\\lib\\site-packages\\keras\\utils\\traceback_utils.py:70\u001b[0m, in \u001b[0;36mfilter_traceback.<locals>.error_handler\u001b[1;34m(*args, **kwargs)\u001b[0m\n\u001b[0;32m     67\u001b[0m     filtered_tb \u001b[38;5;241m=\u001b[39m _process_traceback_frames(e\u001b[38;5;241m.\u001b[39m__traceback__)\n\u001b[0;32m     68\u001b[0m     \u001b[38;5;66;03m# To get the full stack trace, call:\u001b[39;00m\n\u001b[0;32m     69\u001b[0m     \u001b[38;5;66;03m# `tf.debugging.disable_traceback_filtering()`\u001b[39;00m\n\u001b[1;32m---> 70\u001b[0m     \u001b[38;5;28;01mraise\u001b[39;00m e\u001b[38;5;241m.\u001b[39mwith_traceback(filtered_tb) \u001b[38;5;28;01mfrom\u001b[39;00m \u001b[38;5;28;01mNone\u001b[39;00m\n\u001b[0;32m     71\u001b[0m \u001b[38;5;28;01mfinally\u001b[39;00m:\n\u001b[0;32m     72\u001b[0m     \u001b[38;5;28;01mdel\u001b[39;00m filtered_tb\n",
      "File \u001b[1;32m~\\AppData\\Local\\Temp\\__autograph_generated_file7_dt0qwf.py:15\u001b[0m, in \u001b[0;36mouter_factory.<locals>.inner_factory.<locals>.tf__predict_function\u001b[1;34m(iterator)\u001b[0m\n\u001b[0;32m     13\u001b[0m \u001b[38;5;28;01mtry\u001b[39;00m:\n\u001b[0;32m     14\u001b[0m     do_return \u001b[38;5;241m=\u001b[39m \u001b[38;5;28;01mTrue\u001b[39;00m\n\u001b[1;32m---> 15\u001b[0m     retval_ \u001b[38;5;241m=\u001b[39m ag__\u001b[38;5;241m.\u001b[39mconverted_call(ag__\u001b[38;5;241m.\u001b[39mld(step_function), (ag__\u001b[38;5;241m.\u001b[39mld(\u001b[38;5;28mself\u001b[39m), ag__\u001b[38;5;241m.\u001b[39mld(iterator)), \u001b[38;5;28;01mNone\u001b[39;00m, fscope)\n\u001b[0;32m     16\u001b[0m \u001b[38;5;28;01mexcept\u001b[39;00m:\n\u001b[0;32m     17\u001b[0m     do_return \u001b[38;5;241m=\u001b[39m \u001b[38;5;28;01mFalse\u001b[39;00m\n",
      "\u001b[1;31mValueError\u001b[0m: in user code:\n\n    File \"C:\\Users\\ledu2\\AppData\\Local\\anaconda3\\lib\\site-packages\\keras\\engine\\training.py\", line 2137, in predict_function  *\n        return step_function(self, iterator)\n    File \"C:\\Users\\ledu2\\AppData\\Local\\anaconda3\\lib\\site-packages\\keras\\engine\\training.py\", line 2123, in step_function  **\n        outputs = model.distribute_strategy.run(run_step, args=(data,))\n    File \"C:\\Users\\ledu2\\AppData\\Local\\anaconda3\\lib\\site-packages\\keras\\engine\\training.py\", line 2111, in run_step  **\n        outputs = model.predict_step(data)\n    File \"C:\\Users\\ledu2\\AppData\\Local\\anaconda3\\lib\\site-packages\\keras\\engine\\training.py\", line 2079, in predict_step\n        return self(x, training=False)\n    File \"C:\\Users\\ledu2\\AppData\\Local\\anaconda3\\lib\\site-packages\\keras\\utils\\traceback_utils.py\", line 70, in error_handler\n        raise e.with_traceback(filtered_tb) from None\n    File \"C:\\Users\\ledu2\\AppData\\Local\\anaconda3\\lib\\site-packages\\keras\\engine\\input_spec.py\", line 295, in assert_input_compatibility\n        raise ValueError(\n\n    ValueError: Input 0 of layer \"sequential\" is incompatible with the layer: expected shape=(None, 10), found shape=(None, 20)\n"
     ]
    }
   ],
   "source": [
    "# 예측 수행\n",
    "model = load_model('emotion_model.h5')\n",
    "predictions = model.predict(new_padded)\n",
    "#new_model = tf.keras.models.load_model('emotion_model.h5')\n",
    "# 예측 결과 출력\n",
    "for i, pred in enumerate(predictions):\n",
    "    predicted_label = np.argmax(pred)\n",
    "    if predicted_label == 0:\n",
    "        print(f\"'{new_comments[i]}'의 예측 감정: 부정\")\n",
    "        print()\n",
    "    elif predicted_label == 1:\n",
    "        print(f\"'{new_comments[i]}'의 예측 감정: 중립\")\n",
    "        print()\n",
    "    else:\n",
    "        print(f\"'{new_comments[i]}'의 예측 감정: 긍정\")\n",
    "        print()"
   ]
  }
 ],
 "metadata": {
  "kernelspec": {
   "display_name": "Python 3 (ipykernel)",
   "language": "python",
   "name": "python3"
  },
  "language_info": {
   "codemirror_mode": {
    "name": "ipython",
    "version": 3
   },
   "file_extension": ".py",
   "mimetype": "text/x-python",
   "name": "python",
   "nbconvert_exporter": "python",
   "pygments_lexer": "ipython3",
   "version": "3.10.9"
  }
 },
 "nbformat": 4,
 "nbformat_minor": 5
}
