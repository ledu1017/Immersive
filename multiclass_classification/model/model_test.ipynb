{
 "cells": [
  {
   "cell_type": "code",
   "execution_count": 2,
   "id": "26432592",
   "metadata": {},
   "outputs": [],
   "source": [
    "from openpyxl import *\n",
    "import tensorflow as tf\n",
    "from tensorflow.keras.preprocessing.text import Tokenizer\n",
    "from tensorflow.keras.preprocessing.sequence import pad_sequences\n",
    "from keras.models import load_model\n",
    "import numpy as np"
   ]
  },
  {
   "cell_type": "code",
   "execution_count": 3,
   "id": "b8d5fbb5",
   "metadata": {},
   "outputs": [],
   "source": [
    "excelfile = load_workbook('test5.xlsx')    # text.xlsx 파일 로드\n",
    "sheet = excelfile['한국 저출산']    # 시트 로드\n",
    "\n",
    "# E열의 값을 읽어올 리스트\n",
    "comments = []\n",
    "\n",
    "# E열의 값 읽기 (E1은 제외)\n",
    "for row in sheet.iter_rows(min_row=2, values_only=True, max_col=5):\n",
    "    comments_xlsx = row[4]  # E열은 0-based 인덱스로 4\n",
    "    comments.append(comments_xlsx)\n",
    "    #if video_name and video_name not in video_names:  # 값이 비어있지 않은 경우에만 리스트에 추가\n",
    "        #video_names.append(video_name)"
   ]
  },
  {
   "cell_type": "code",
   "execution_count": 1,
   "id": "555d9e45",
   "metadata": {},
   "outputs": [],
   "source": [
    "word_list = []\n",
    "\n",
    "with open('pos_pol_word.txt', encoding = \"UTF-8\") as pos:\n",
    "    for idx, line in enumerate(pos):\n",
    "        if idx > 18:\n",
    "            word_list.append(line.strip())\n",
    "            \n",
    "with open('neg_pol_word.txt', encoding = \"UTF-8\") as pos:\n",
    "    for idx, line in enumerate(pos):\n",
    "        if idx > 18:\n",
    "            word_list.append(line.strip())\n",
    "            \n",
    "            \n",
    "with open('obj_unknown_pol_word.txt', encoding = \"UTF-8\") as pos:\n",
    "    for idx, line in enumerate(pos):\n",
    "        if idx > 19:\n",
    "            word_list.append(line.strip())"
   ]
  },
  {
   "cell_type": "code",
   "execution_count": 4,
   "id": "fdc95c13",
   "metadata": {},
   "outputs": [],
   "source": [
    "new_comments = []\n",
    "for comment in comments[:5]:\n",
    "    if comment is not None:\n",
    "        new_comments.append(str(comment))"
   ]
  },
  {
   "cell_type": "code",
   "execution_count": 5,
   "id": "aaccc9aa",
   "metadata": {},
   "outputs": [],
   "source": [
    "# 텍스트 데이터를 시퀀스로 변환\n",
    "tokenizer = Tokenizer(num_words=10000, oov_token='<OOV>')\n",
    "tokenizer.fit_on_texts(word_list)\n",
    "new_sequences = tokenizer.texts_to_sequences(new_comments)\n",
    "\n",
    "# 패딩 처리\n",
    "new_padded = pad_sequences(new_sequences, maxlen=10, padding='post', truncating='post')"
   ]
  },
  {
   "cell_type": "code",
   "execution_count": 6,
   "id": "72de84cf",
   "metadata": {},
   "outputs": [
    {
     "name": "stdout",
     "output_type": "stream",
     "text": [
      "1/1 [==============================] - 0s 264ms/step\n",
      "'절묘하게 제목에 맞게 편집했네요. 실제 강의에서는 조금 다릅니다. 한국 학생에게 물어봅니다. 왜 물질적 풍요를 선택했냐고. 한국학생들은 그래야 내 가족과 주변의 나의 사람들을 지킬 수 있다는 취지로 말했습니다. 그러자 샘 리처드 교수는 청강하는 학생들에게 말합니다. 유독 한국인들이 말하는 물질적 풍요의 의미는 좀 다르다고. 다른 모든 나라에서 말하는 물질적 풍요에 대한 가치를 자기 자신이나 과시 등을 내포하는 것이 일반적인데 한국인에게 물질적 풍요는 여러분들이 1순위로 뽑은 가족을 위한 의미의 출발이라고. 과거 역사에서 가난하고 약했기에 힘들고 지킬 수 없었던 것이 지금의 한국인에게도 물질적 풍요는 블링블링한 자기 과시나 낭비를 하는 그런 이미지가 아닌 내 가족들이 힘든 일이 없도록 도와줄 수 있는 것에 초점이 있다고. 저출산을 없애는 것은 좋습니다. 하지만 프로그램의 의도에만 초점을 맞춰서 필요한 인터뷰만 뽑고 제목을 뽑아 굳이 한국인이 중요하게 생각하는 가치를 오도하고 폄훼하는 것에는 문제가 있습니다. 방송은 사람의 의식을 이끕니다. 이 방송을 보고 대부분 우리가 그렇구나하고 생각합니다. KBS! 공영방송인데 조심하고 신중하세요.'의 예측 감정: 긍정\n",
      "\n",
      "'물질적 풍요 = 가정의 안정 이란 공식이 뼛속깊이 박혀있음.'의 예측 감정: 중립\n",
      "\n",
      "'이 강의 영상 본 적 있는데 물직적 풍요 또한 \"가족\"을 지키기 위함이라는 이유에서 기인한 것이라는 걸 듣고 소름 돋았어요.동시에 한국은 가족을 형성하는 것과 물질적 풍요 간의 긴밀함에 대한 인식이 너무 강하고 강해질 수밖에 없는 구조라는 것이 느껴지는 강의였어요.'의 예측 감정: 긍정\n",
      "\n",
      "'친구들이랑 인생관 얘기할 때 돈이  좀 없어도 결혼 하고 아이 낳고 가족 일궈 나가는게 중요하지 않겠냐고 하니까 그럴 수 없는 현실에 대해 설명해주더라고요. 개탄스럽습니다.'의 예측 감정: 중립\n",
      "\n",
      "'비통한'의 예측 감정: 부정\n",
      "\n"
     ]
    }
   ],
   "source": [
    "# 예측 수행\n",
    "model = load_model('emotion_model.h5')\n",
    "predictions = model.predict(new_padded)\n",
    "#new_model = tf.keras.models.load_model('emotion_model.h5')\n",
    "# 예측 결과 출력\n",
    "for i, pred in enumerate(predictions):\n",
    "    predicted_label = np.argmax(pred)\n",
    "    if predicted_label == 0:\n",
    "        print(f\"'{new_comments[i]}'의 예측 감정: 부정\")\n",
    "        print()\n",
    "    elif predicted_label == 1:\n",
    "        print(f\"'{new_comments[i]}'의 예측 감정: 중립\")\n",
    "        print()\n",
    "    else:\n",
    "        print(f\"'{new_comments[i]}'의 예측 감정: 긍정\")\n",
    "        print()"
   ]
  },
  {
   "cell_type": "code",
   "execution_count": null,
   "id": "87f14004",
   "metadata": {},
   "outputs": [],
   "source": []
  }
 ],
 "metadata": {
  "kernelspec": {
   "display_name": "Python 3 (ipykernel)",
   "language": "python",
   "name": "python3"
  },
  "language_info": {
   "codemirror_mode": {
    "name": "ipython",
    "version": 3
   },
   "file_extension": ".py",
   "mimetype": "text/x-python",
   "name": "python",
   "nbconvert_exporter": "python",
   "pygments_lexer": "ipython3",
   "version": "3.10.9"
  }
 },
 "nbformat": 4,
 "nbformat_minor": 5
}
