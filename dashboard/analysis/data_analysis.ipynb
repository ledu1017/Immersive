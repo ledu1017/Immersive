{
 "cells": [
  {
   "cell_type": "code",
   "execution_count": 1,
   "id": "78463dcb",
   "metadata": {},
   "outputs": [],
   "source": [
    "from openpyxl import *"
   ]
  },
  {
   "cell_type": "code",
   "execution_count": 2,
   "id": "c0c7f9a2",
   "metadata": {},
   "outputs": [],
   "source": [
    "excelfile = load_workbook('accident_data.xlsx')    # 엑셀 파일 로드\n",
    "sheet_2020 = excelfile['2020']    # 시트 로드\n",
    "sheet_2021 = excelfile['2021']\n",
    "sheet_2022 = excelfile['2022']"
   ]
  },
  {
   "cell_type": "code",
   "execution_count": 8,
   "id": "a32d33fd",
   "metadata": {},
   "outputs": [],
   "source": [
    "school_levels = {}\n",
    "\n",
    "for row in sheet_2020.iter_rows(min_row=2, values_only=True):\n",
    "    school_level = row[5]  # D열은 0-based 인덱스로 3\n",
    "    if school_level in school_levels:\n",
    "        school_levels[school_level] += 1\n",
    "    else:\n",
    "        school_levels[school_level] = 0"
   ]
  },
  {
   "cell_type": "code",
   "execution_count": 9,
   "id": "7785c996",
   "metadata": {},
   "outputs": [
    {
     "data": {
      "text/plain": [
       "{'초': 12127, '중': 11980, '고': 11190, '특수': 275, '유': 6201, '기타': 161}"
      ]
     },
     "execution_count": 9,
     "metadata": {},
     "output_type": "execute_result"
    }
   ],
   "source": [
    "school_levels"
   ]
  },
  {
   "cell_type": "code",
   "execution_count": null,
   "id": "ad268a56",
   "metadata": {},
   "outputs": [],
   "source": []
  }
 ],
 "metadata": {
  "kernelspec": {
   "display_name": "Python 3 (ipykernel)",
   "language": "python",
   "name": "python3"
  },
  "language_info": {
   "codemirror_mode": {
    "name": "ipython",
    "version": 3
   },
   "file_extension": ".py",
   "mimetype": "text/x-python",
   "name": "python",
   "nbconvert_exporter": "python",
   "pygments_lexer": "ipython3",
   "version": "3.10.9"
  }
 },
 "nbformat": 4,
 "nbformat_minor": 5
}
