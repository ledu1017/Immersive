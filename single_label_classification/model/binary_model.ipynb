{
 "cells": [
  {
   "cell_type": "code",
   "execution_count": null,
   "id": "64852641",
   "metadata": {},
   "outputs": [],
   "source": [
    "import numpy as np\n",
    "import tensorflow as tf\n",
    "from tensorflow.keras.preprocessing.text import Tokenizer\n",
    "from tensorflow.keras.preprocessing.sequence import pad_sequences\n",
    "from tensorflow.keras.models import Sequential\n",
    "from tensorflow.keras.layers import Embedding, LSTM, Dense, Dropout\n",
    "\n",
    "# 데이터 준비 (예제로 간단하게 구성)\n",
    "title = []\n",
    "position = []\n",
    "\n",
    "with open('titles.txt', encoding = 'UTF-8') as f:\n",
    "    for line in f:\n",
    "        split_text = f.readline().split(',')\n",
    "        title.append(split_text[0])\n",
    "        position.append(int(split_text[1].strip()))\n",
    "\n",
    "print(title)\n",
    "print(position)\n",
    "# 텍스트 토큰화\n",
    "tokenizer = Tokenizer()\n",
    "tokenizer.fit_on_texts(title)\n",
    "total_words = len(tokenizer.word_index) + 1\n",
    "\n",
    "# 시퀀스 생성 및 패딩\n",
    "input_sequences = tokenizer.texts_to_sequences(title)\n",
    "max_sequence_len = max([len(x) for x in input_sequences])\n",
    "input_sequences = pad_sequences(input_sequences, maxlen=max_sequence_len, padding='post')\n",
    "\n",
    "# 모델 구성\n",
    "model = Sequential()\n",
    "model.add(Embedding(total_words, 64, input_length=max_sequence_len))\n",
    "model.add(LSTM(64, return_sequences=True))\n",
    "model.add(Dropout(0.2))\n",
    "model.add(LSTM(32))\n",
    "model.add(Dense(1, activation='sigmoid'))\n",
    "\n",
    "model.compile(loss='binary_crossentropy', optimizer='adam', metrics=['accuracy'])\n",
    "\n",
    "# 모델 학습\n",
    "model.fit(np.array(input_sequences), np.array(position), epochs=50)\n",
    "\n",
    "# 예측\n",
    "test_msg = [\"다낭 가볼까?\"]\n",
    "test_seq = tokenizer.texts_to_sequences(test_msg)\n",
    "test_seq = pad_sequences(test_seq, maxlen=max_sequence_len, padding='post')\n",
    "prediction = model.predict(test_seq)\n",
    "print(\"해외여행 확률:\", prediction[0][0])\n"
   ]
  }
 ],
 "metadata": {
  "kernelspec": {
   "display_name": "Python 3 (ipykernel)",
   "language": "python",
   "name": "python3"
  },
  "language_info": {
   "codemirror_mode": {
    "name": "ipython",
    "version": 3
   },
   "file_extension": ".py",
   "mimetype": "text/x-python",
   "name": "python",
   "nbconvert_exporter": "python",
   "pygments_lexer": "ipython3",
   "version": "3.10.9"
  }
 },
 "nbformat": 4,
 "nbformat_minor": 5
}
