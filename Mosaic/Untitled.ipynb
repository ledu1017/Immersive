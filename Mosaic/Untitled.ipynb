{
 "cells": [
  {
   "cell_type": "code",
   "execution_count": null,
   "id": "416c9113",
   "metadata": {},
   "outputs": [],
   "source": [
    "import cv2\n",
    "\n",
    "# Load the cascade\n",
    "face_cascade = cv2.CascadeClassifier(cv2.data.haarcascades + 'haarcascade_frontalface_default.xml')\n",
    "\n",
    "# Function to apply mosaic\n",
    "def apply_mosaic(image, factor = 0.1):\n",
    "    # Downscale the image\n",
    "    small = cv2.resize(image, None, fx = factor, fy = factor, interpolation = cv2.INTER_LINEAR)\n",
    "    \n",
    "    # Upscale the image\n",
    "    return cv2.resize(small, image.shape[:2][::-1], interpolation = cv2.INTER_NEAREST)\n",
    "\n",
    "# Read the input image\n",
    "img = cv2.imread('face.jpg')\n",
    "\n",
    "# Convert color style from BGR to RGB\n",
    "img = cv2.cvtColor(img, cv2.COLOR_BGR2RGB)\n",
    "\n",
    "# Detect faces\n",
    "faces = face_cascade.detectMultiScale(img, 1.1, 4)\n",
    "\n",
    "# Apply mosaic to each face\n",
    "for (x, y, w, h) in faces:\n",
    "    img[y:y+h, x:x+w] = apply_mosaic(img[y:y+h, x:x+h])\n",
    "    \n",
    "# Save the output\n",
    "cv2.imwrite('face_mosaic.jpg', cv2.cvtColor(img, cv2.COLOR_RGB2BGR))"
   ]
  },
  {
   "cell_type": "code",
   "execution_count": 7,
   "id": "787b678c",
   "metadata": {},
   "outputs": [],
   "source": [
    "import cv2"
   ]
  },
  {
   "cell_type": "code",
   "execution_count": 8,
   "id": "0ca21c56",
   "metadata": {},
   "outputs": [],
   "source": [
    "# Load the cascade\n",
    "face_cascade = cv2.CascadeClassifier(cv2.data.haarcascades + 'haarcascade_frontalface_default.xml')"
   ]
  },
  {
   "cell_type": "code",
   "execution_count": 9,
   "id": "d77f3a49",
   "metadata": {},
   "outputs": [],
   "source": [
    "# Function to apply mosaic\n",
    "def apply_mosaic(image, factor = 0.1):\n",
    "    # Downscale the image\n",
    "    small = cv2.resize(image, None, fx = factor, fy = factor, interpolation = cv2.INTER_LINEAR)\n",
    "    \n",
    "    # Upscale the image\n",
    "    return cv2.resize(small, image.shape[:2][::-1], interpolation = cv2.INTER_NEAREST)"
   ]
  },
  {
   "cell_type": "code",
   "execution_count": 10,
   "id": "d34ed949",
   "metadata": {},
   "outputs": [],
   "source": [
    "# Read the input image\n",
    "img = cv2.imread('face.jpg')"
   ]
  },
  {
   "cell_type": "code",
   "execution_count": 11,
   "id": "13120749",
   "metadata": {},
   "outputs": [],
   "source": [
    "# Convert color style from BGR to RGB\n",
    "img = cv2.cvtColor(img, cv2.COLOR_BGR2RGB)"
   ]
  },
  {
   "cell_type": "code",
   "execution_count": 12,
   "id": "d2b34a2c",
   "metadata": {},
   "outputs": [],
   "source": [
    "# Detect faces\n",
    "faces = face_cascade.detectMultiScale(img, 1.1, 4)"
   ]
  },
  {
   "cell_type": "code",
   "execution_count": 13,
   "id": "1fc0692a",
   "metadata": {},
   "outputs": [],
   "source": [
    "# Apply mosaic to each face\n",
    "for (x, y, w, h) in faces:\n",
    "    img[y:y+h, x:x+w] = apply_mosaic(img[y:y+h, x:x+h])"
   ]
  },
  {
   "cell_type": "code",
   "execution_count": 14,
   "id": "04e51ff1",
   "metadata": {},
   "outputs": [
    {
     "data": {
      "text/plain": [
       "True"
      ]
     },
     "execution_count": 14,
     "metadata": {},
     "output_type": "execute_result"
    }
   ],
   "source": [
    "# Save the output\n",
    "cv2.imwrite('face_mosaic.jpg', cv2.cvtColor(img, cv2.COLOR_RGB2BGR))"
   ]
  },
  {
   "cell_type": "code",
   "execution_count": 18,
   "id": "2a4fcb22",
   "metadata": {},
   "outputs": [
    {
     "data": {
      "text/plain": [
       "array([[[195, 199, 200],\n",
       "        [195, 199, 200],\n",
       "        [195, 199, 200],\n",
       "        ...,\n",
       "        [196, 200, 201],\n",
       "        [196, 200, 201],\n",
       "        [196, 200, 201]],\n",
       "\n",
       "       [[195, 199, 200],\n",
       "        [195, 199, 200],\n",
       "        [195, 199, 200],\n",
       "        ...,\n",
       "        [196, 200, 201],\n",
       "        [196, 200, 201],\n",
       "        [196, 200, 201]],\n",
       "\n",
       "       [[195, 199, 200],\n",
       "        [195, 199, 200],\n",
       "        [195, 199, 200],\n",
       "        ...,\n",
       "        [196, 200, 201],\n",
       "        [196, 200, 201],\n",
       "        [196, 200, 201]],\n",
       "\n",
       "       ...,\n",
       "\n",
       "       [[204, 208, 209],\n",
       "        [204, 208, 209],\n",
       "        [204, 208, 209],\n",
       "        ...,\n",
       "        [204, 208, 209],\n",
       "        [204, 208, 209],\n",
       "        [204, 208, 209]],\n",
       "\n",
       "       [[205, 209, 210],\n",
       "        [205, 209, 210],\n",
       "        [205, 209, 210],\n",
       "        ...,\n",
       "        [205, 209, 210],\n",
       "        [205, 209, 210],\n",
       "        [205, 209, 210]],\n",
       "\n",
       "       [[205, 209, 210],\n",
       "        [205, 209, 210],\n",
       "        [205, 209, 210],\n",
       "        ...,\n",
       "        [205, 209, 210],\n",
       "        [205, 209, 210],\n",
       "        [205, 209, 210]]], dtype=uint8)"
      ]
     },
     "execution_count": 18,
     "metadata": {},
     "output_type": "execute_result"
    }
   ],
   "source": [
    "import cv2\n",
    "import numpy as np\n",
    "\n",
    "# face 분류기 로드\n",
    "face_cascade = cv2.CascadeClassifier('cascade_files/haarcascade_frontalface_alt.xml')\n",
    "# 가면 영상\n",
    "face_mask = cv2.imread('face.jpg')\n",
    "#cv2.imshow('test',face_mask)\n",
    "h_mask, w_mask = face_mask.shape[:2]\n",
    "\n",
    "if face_cascade.empty():\n",
    "    raise IOError('Unable to load the face cascade classifier xml file')\n",
    "cap = cv2.VideoCapture(\"../../img/faces.mp4\")\n",
    "scaling_factor = 0.1\n",
    "\n",
    "while True:\n",
    "    ret, frame = cap.read()\n",
    "    #cv2.imshow('Original', frame)\n",
    "    if not ret:\n",
    "        break\n",
    "    frame = cv2.resize(frame, None,fx=scaling_factor,fy=scaling_factor, interpolation=cv2.INTER_AREA)\n",
    "    gray = cv2.cvtColor(frame, cv2.COLOR_BGR2GRAY)\n",
    "\n",
    "    face_rects = face_cascade.detectMultiScale(gray, 1.3, 5)\n",
    "   \n",
    "    for (x, y, w, h) in face_rects:\n",
    "        \n",
    "        if h > 0 and w > 0:\n",
    "\n",
    "            x = int(x-w*0.1 )\n",
    "            y = int(y -h*0.05)\n",
    "            w = int(1.2* w)\n",
    "            h = int(1.2 * h)\n",
    "          \n",
    "            frame_roi = frame[y:y + h, x:x + w]\n",
    "          \n",
    "            face_mask_small = cv2.resize(face_mask, (w, h), interpolation=cv2.INTER_AREA)\n",
    "            \n",
    "            gray_mask = cv2.cvtColor(face_mask_small, cv2.COLOR_BGR2GRAY)\n",
    "            ret, mask = cv2.threshold(gray_mask, 240, 255, cv2.THRESH_BINARY_INV)\n",
    "            #cv2.imshow('gray_mask', gray_mask)\n",
    "            #cv2.imshow('mask', mask)\n",
    "        mask_inv = cv2.bitwise_not(mask)\n",
    "        masked_face = cv2.bitwise_and(face_mask_small, face_mask_small, mask=mask)\n",
    "        masked_frame = cv2.bitwise_and(frame_roi, frame_roi, mask=mask_inv)\n",
    "        \n",
    "        #cv2.imshow('masked_face', masked_face)\n",
    "        #cv2.imshow('masked_frame', masked_frame)\n",
    "        \n",
    "        frame[y:y + h, x:x + w] = cv2.add(masked_face, masked_frame)\n",
    "\n",
    "    cv2.imshow('Face Detector', frame)\n",
    "    c = cv2.waitKey(1)\n",
    "    if c == 27:\n",
    "        break\n",
    "cap.release()\n",
    "cv2.destroyAllWindows()"
   ]
  },
  {
   "cell_type": "code",
   "execution_count": null,
   "id": "37a694ed",
   "metadata": {},
   "outputs": [],
   "source": []
  }
 ],
 "metadata": {
  "kernelspec": {
   "display_name": "Python 3 (ipykernel)",
   "language": "python",
   "name": "python3"
  },
  "language_info": {
   "codemirror_mode": {
    "name": "ipython",
    "version": 3
   },
   "file_extension": ".py",
   "mimetype": "text/x-python",
   "name": "python",
   "nbconvert_exporter": "python",
   "pygments_lexer": "ipython3",
   "version": "3.10.9"
  }
 },
 "nbformat": 4,
 "nbformat_minor": 5
}
